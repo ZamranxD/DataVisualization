{
 "cells": [
  {
   "cell_type": "code",
   "execution_count": 4,
   "metadata": {},
   "outputs": [],
   "source": [
    "#making a basic bokeh line graph\n",
    "\n",
    "#importing necessary modules\n",
    "from bokeh.plotting import figure\n",
    "from bokeh.io import output_file, show\n",
    "\n",
    "#prepare some data\n",
    "x = [1,2,3,4,5]\n",
    "y = [6,7,8,9,10]\n",
    "\n",
    "#prepare the output file\n",
    "output_file(\"Linegraph.html\")\n",
    "\n",
    "#create a figure object\n",
    "fig = figure()\n",
    "\n",
    "#create line plot\n",
    "fig.line(x,y)\n",
    "\n",
    "#output\n",
    "show(fig)"
   ]
  },
  {
   "cell_type": "code",
   "execution_count": 2,
   "metadata": {},
   "outputs": [],
   "source": [
    "#making a basic bokeh line graph by importing data from a csv file\n",
    "\n",
    "#importing necessary modules\n",
    "from bokeh.plotting import figure\n",
    "from bokeh.io import output_file, show\n",
    "import pandas\n",
    "\n",
    "#prepare some data\n",
    "dataframee = pandas.read_csv(\"data.csv\")\n",
    "x = dataframee[\"x\"]\n",
    "y = dataframee[\"y\"]\n",
    "\n",
    "#prepare the output file\n",
    "output_file(\"Linegraph_from_csv.html\")\n",
    "\n",
    "#create a figure object\n",
    "fig = figure()\n",
    "\n",
    "#create line plot\n",
    "fig.line(x,y)\n",
    "\n",
    "#output\n",
    "show(fig)"
   ]
  }
 ],
 "metadata": {
  "kernelspec": {
   "display_name": "Python 3",
   "language": "python",
   "name": "python3"
  },
  "language_info": {
   "codemirror_mode": {
    "name": "ipython",
    "version": 3
   },
   "file_extension": ".py",
   "mimetype": "text/x-python",
   "name": "python",
   "nbconvert_exporter": "python",
   "pygments_lexer": "ipython3",
   "version": "3.8.2"
  }
 },
 "nbformat": 4,
 "nbformat_minor": 4
}
